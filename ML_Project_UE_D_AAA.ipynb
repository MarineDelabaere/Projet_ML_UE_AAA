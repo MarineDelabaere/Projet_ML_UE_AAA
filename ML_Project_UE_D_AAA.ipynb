{
  "cells": [
    {
      "cell_type": "markdown",
      "metadata": {
        "id": "view-in-github",
        "colab_type": "text"
      },
      "source": [
        "<a href=\"https://colab.research.google.com/github/MarineDelabaere/Projet_ML_UE_AAA/blob/main/ML_Project_UE_D_AAA.ipynb\" target=\"_parent\"><img src=\"https://colab.research.google.com/assets/colab-badge.svg\" alt=\"Open In Colab\"/></a>"
      ]
    },
    {
      "cell_type": "markdown",
      "metadata": {
        "id": "nKFVpWIP2Tzv"
      },
      "source": [
        "***Utilisation du Machine Learning pour prédire les performances des étudiants en fonction de plusieurs caractéristiques***\n"
      ]
    },
    {
      "cell_type": "markdown",
      "metadata": {
        "id": "CCHpis2G2yEu"
      },
      "source": [
        "Ce projet de Machine Learning s'inscrit dans le cadre de l'UE D AAA (Algorithmes et Apprentissage automatique) proposée par l'école d'ingénieur IMT Atlantique basée à Nantes en France. Il est réalisé par Marine Delabaere, étudiante de cette école.\n",
        "\n",
        "Ce projet a pour ambition de développer un modèle de machine learning capable de prédire les résultats scolaires en cours de portugais en fonction de plusieurs éléments de la vie sociale d'étudiants portugais (niveau d'études de leurs parents, engagée dans une relation amoureuse ou pas, qualité des relations familiales ...)  de deux établissements scolaires distincts : le lycée Gabriel Pereira et le lycée Mousinho da Silveira."
      ]
    },
    {
      "cell_type": "markdown",
      "metadata": {
        "id": "LDQ_HKC-RoQx"
      },
      "source": [
        "***I)Téléchargement des librairies et des données***"
      ]
    },
    {
      "cell_type": "code",
      "execution_count": 1,
      "metadata": {
        "id": "KfPVWsEJzgAM"
      },
      "outputs": [],
      "source": [
        "import pandas as pd\n",
        "import numpy as np\n",
        "import matplotlib.pyplot as plt\n",
        "import seaborn as sns\n",
        "from sklearn.model_selection import train_test_split, learning_curve, GridSearchCV, RandomizedSearchCV\n",
        "from sklearn.preprocessing import StandardScaler, PolynomialFeatures\n",
        "from sklearn.ensemble import IsolationForest, RandomForestRegressor, AdaBoostRegressor\n",
        "from sklearn.decomposition import PCA\n",
        "from sklearn.metrics import mean_squared_error\n",
        "from sklearn.linear_model import LinearRegression, Lasso\n",
        "from sklearn.pipeline import make_pipeline\n",
        "\n",
        "\n"
      ]
    },
    {
      "cell_type": "code",
      "execution_count": 2,
      "metadata": {
        "id": "Q0lrqvuzzkcH"
      },
      "outputs": [],
      "source": [
        "student_performance= pd.read_csv(\"https://raw.githubusercontent.com/MarineDelabaere/Projet_ML_UE_AAA/main/student-por.csv\" , sep=\";\")\n",
        "target_name = \"G3\"\n",
        "data = student_performance.drop(columns=target_name)\n",
        "target = student_performance[target_name]"
      ]
    },
    {
      "cell_type": "code",
      "execution_count": 3,
      "metadata": {
        "id": "obrMPdgn8rMm"
      },
      "outputs": [],
      "source": [
        "numerical_features = [\"age\", \"failures\", \"absences\",\"G1\",\"G2\"]\n",
        "categorical_features=data.drop(numerical_features, axis=1)"
      ]
    },
    {
      "cell_type": "markdown",
      "metadata": {
        "id": "c04UKGp6R1tV"
      },
      "source": [
        "***II)Exploration des données***"
      ]
    },
    {
      "cell_type": "code",
      "execution_count": 4,
      "metadata": {
        "colab": {
          "base_uri": "https://localhost:8080/"
        },
        "id": "ZR66vK8nQDJU",
        "outputId": "3ea94e0d-e862-4fec-f05f-eb09a374f52d"
      },
      "outputs": [
        {
          "output_type": "stream",
          "name": "stdout",
          "text": [
            "<class 'pandas.core.frame.DataFrame'>\n",
            "RangeIndex: 649 entries, 0 to 648\n",
            "Data columns (total 33 columns):\n",
            " #   Column      Non-Null Count  Dtype \n",
            "---  ------      --------------  ----- \n",
            " 0   school      649 non-null    object\n",
            " 1   sex         649 non-null    object\n",
            " 2   age         649 non-null    int64 \n",
            " 3   address     649 non-null    object\n",
            " 4   famsize     649 non-null    object\n",
            " 5   Pstatus     649 non-null    object\n",
            " 6   Medu        649 non-null    int64 \n",
            " 7   Fedu        649 non-null    int64 \n",
            " 8   Mjob        649 non-null    object\n",
            " 9   Fjob        649 non-null    object\n",
            " 10  reason      649 non-null    object\n",
            " 11  guardian    649 non-null    object\n",
            " 12  traveltime  649 non-null    int64 \n",
            " 13  studytime   649 non-null    int64 \n",
            " 14  failures    649 non-null    int64 \n",
            " 15  schoolsup   649 non-null    object\n",
            " 16  famsup      649 non-null    object\n",
            " 17  paid        649 non-null    object\n",
            " 18  activities  649 non-null    object\n",
            " 19  nursery     649 non-null    object\n",
            " 20  higher      649 non-null    object\n",
            " 21  internet    649 non-null    object\n",
            " 22  romantic    649 non-null    object\n",
            " 23  famrel      649 non-null    int64 \n",
            " 24  freetime    649 non-null    int64 \n",
            " 25  goout       649 non-null    int64 \n",
            " 26  Dalc        649 non-null    int64 \n",
            " 27  Walc        649 non-null    int64 \n",
            " 28  health      649 non-null    int64 \n",
            " 29  absences    649 non-null    int64 \n",
            " 30  G1          649 non-null    int64 \n",
            " 31  G2          649 non-null    int64 \n",
            " 32  G3          649 non-null    int64 \n",
            "dtypes: int64(16), object(17)\n",
            "memory usage: 167.4+ KB\n"
          ]
        }
      ],
      "source": [
        "student_performance.info()"
      ]
    },
    {
      "cell_type": "markdown",
      "metadata": {
        "id": "rDnj_YrBOPIN"
      },
      "source": [
        "Le dataset comporte 649 instances et 33 variables.\n",
        "Les variables 0, 1, 3, 4, 5, 8, 9, 10, 11, 15, 16, 17, 18, 19, 20, 21 et 22 sont catégorielles. Elles représentent des catégories comme l'établissement scolaire, le sexe, la relation des parents (vivant ensemble ou séparément), le travail des parents, l'accès à Internet etc.\n",
        "  Toutes les autres sont numériques (l'âge, la consommation d'alcool, le nombre d'absences etc).\n",
        "\n",
        "  **La target est G3 c'est-à-dire la note (de 0 à 20) obtenu par l'élève en cours de portugais au troisième (et donc dernier) trimestre.**\n",
        "\n",
        "  Il s'agit donc d'un cas d'apprentissage supervisé plus particulièrement d'un problème de **régression**."
      ]
    },
    {
      "cell_type": "markdown",
      "metadata": {
        "id": "urAo5lfsUoqB"
      },
      "source": [
        "Initialement, il y avait deux datasets : un concernant la performance en mathématiques et l'autre pour la performance en portugais. Ce dernier possédant un peu plus d'instances que le premier, j'ai choisi de l'étudier."
      ]
    },
    {
      "cell_type": "code",
      "execution_count": 5,
      "metadata": {
        "colab": {
          "base_uri": "https://localhost:8080/"
        },
        "id": "_CWWHpTLV5-s",
        "outputId": "22f39511-a6e8-45e0-aa4c-5a158f85489a"
      },
      "outputs": [
        {
          "output_type": "stream",
          "name": "stdout",
          "text": [
            "school        0\n",
            "sex           0\n",
            "age           0\n",
            "address       0\n",
            "famsize       0\n",
            "Pstatus       0\n",
            "Medu          0\n",
            "Fedu          0\n",
            "Mjob          0\n",
            "Fjob          0\n",
            "reason        0\n",
            "guardian      0\n",
            "traveltime    0\n",
            "studytime     0\n",
            "failures      0\n",
            "schoolsup     0\n",
            "famsup        0\n",
            "paid          0\n",
            "activities    0\n",
            "nursery       0\n",
            "higher        0\n",
            "internet      0\n",
            "romantic      0\n",
            "famrel        0\n",
            "freetime      0\n",
            "goout         0\n",
            "Dalc          0\n",
            "Walc          0\n",
            "health        0\n",
            "absences      0\n",
            "G1            0\n",
            "G2            0\n",
            "dtype: int64\n"
          ]
        }
      ],
      "source": [
        "missing_values_count = data.isna().sum()\n",
        "\n",
        "print(missing_values_count)"
      ]
    },
    {
      "cell_type": "markdown",
      "metadata": {
        "id": "GVCAaElPlIR7"
      },
      "source": [
        "Bonne nouvelle : on remarque que l'on n'a **aucune valeur manquante**. Cela va nous épargner du travail dans la partie pré-traitement des données."
      ]
    },
    {
      "cell_type": "markdown",
      "metadata": {
        "id": "6lVtMFc0WE67"
      },
      "source": [
        "Quelques instances du dataset :"
      ]
    },
    {
      "cell_type": "code",
      "execution_count": 6,
      "metadata": {
        "colab": {
          "base_uri": "https://localhost:8080/",
          "height": 255
        },
        "id": "EnNUJGOvz4G_",
        "outputId": "39556b7d-9ad6-4e71-cfb3-84164b7a226d"
      },
      "outputs": [
        {
          "output_type": "execute_result",
          "data": {
            "text/plain": [
              "  school sex  age address famsize Pstatus  Medu  Fedu     Mjob      Fjob  ...  \\\n",
              "0     GP   F   18       U     GT3       A     4     4  at_home   teacher  ...   \n",
              "1     GP   F   17       U     GT3       T     1     1  at_home     other  ...   \n",
              "2     GP   F   15       U     LE3       T     1     1  at_home     other  ...   \n",
              "3     GP   F   15       U     GT3       T     4     2   health  services  ...   \n",
              "4     GP   F   16       U     GT3       T     3     3    other     other  ...   \n",
              "\n",
              "  famrel freetime  goout  Dalc  Walc health absences  G1  G2  G3  \n",
              "0      4        3      4     1     1      3        4   0  11  11  \n",
              "1      5        3      3     1     1      3        2   9  11  11  \n",
              "2      4        3      2     2     3      3        6  12  13  12  \n",
              "3      3        2      2     1     1      5        0  14  14  14  \n",
              "4      4        3      2     1     2      5        0  11  13  13  \n",
              "\n",
              "[5 rows x 33 columns]"
            ],
            "text/html": [
              "\n",
              "  <div id=\"df-a3112ed8-b781-4be1-bf56-8011f1c607ab\" class=\"colab-df-container\">\n",
              "    <div>\n",
              "<style scoped>\n",
              "    .dataframe tbody tr th:only-of-type {\n",
              "        vertical-align: middle;\n",
              "    }\n",
              "\n",
              "    .dataframe tbody tr th {\n",
              "        vertical-align: top;\n",
              "    }\n",
              "\n",
              "    .dataframe thead th {\n",
              "        text-align: right;\n",
              "    }\n",
              "</style>\n",
              "<table border=\"1\" class=\"dataframe\">\n",
              "  <thead>\n",
              "    <tr style=\"text-align: right;\">\n",
              "      <th></th>\n",
              "      <th>school</th>\n",
              "      <th>sex</th>\n",
              "      <th>age</th>\n",
              "      <th>address</th>\n",
              "      <th>famsize</th>\n",
              "      <th>Pstatus</th>\n",
              "      <th>Medu</th>\n",
              "      <th>Fedu</th>\n",
              "      <th>Mjob</th>\n",
              "      <th>Fjob</th>\n",
              "      <th>...</th>\n",
              "      <th>famrel</th>\n",
              "      <th>freetime</th>\n",
              "      <th>goout</th>\n",
              "      <th>Dalc</th>\n",
              "      <th>Walc</th>\n",
              "      <th>health</th>\n",
              "      <th>absences</th>\n",
              "      <th>G1</th>\n",
              "      <th>G2</th>\n",
              "      <th>G3</th>\n",
              "    </tr>\n",
              "  </thead>\n",
              "  <tbody>\n",
              "    <tr>\n",
              "      <th>0</th>\n",
              "      <td>GP</td>\n",
              "      <td>F</td>\n",
              "      <td>18</td>\n",
              "      <td>U</td>\n",
              "      <td>GT3</td>\n",
              "      <td>A</td>\n",
              "      <td>4</td>\n",
              "      <td>4</td>\n",
              "      <td>at_home</td>\n",
              "      <td>teacher</td>\n",
              "      <td>...</td>\n",
              "      <td>4</td>\n",
              "      <td>3</td>\n",
              "      <td>4</td>\n",
              "      <td>1</td>\n",
              "      <td>1</td>\n",
              "      <td>3</td>\n",
              "      <td>4</td>\n",
              "      <td>0</td>\n",
              "      <td>11</td>\n",
              "      <td>11</td>\n",
              "    </tr>\n",
              "    <tr>\n",
              "      <th>1</th>\n",
              "      <td>GP</td>\n",
              "      <td>F</td>\n",
              "      <td>17</td>\n",
              "      <td>U</td>\n",
              "      <td>GT3</td>\n",
              "      <td>T</td>\n",
              "      <td>1</td>\n",
              "      <td>1</td>\n",
              "      <td>at_home</td>\n",
              "      <td>other</td>\n",
              "      <td>...</td>\n",
              "      <td>5</td>\n",
              "      <td>3</td>\n",
              "      <td>3</td>\n",
              "      <td>1</td>\n",
              "      <td>1</td>\n",
              "      <td>3</td>\n",
              "      <td>2</td>\n",
              "      <td>9</td>\n",
              "      <td>11</td>\n",
              "      <td>11</td>\n",
              "    </tr>\n",
              "    <tr>\n",
              "      <th>2</th>\n",
              "      <td>GP</td>\n",
              "      <td>F</td>\n",
              "      <td>15</td>\n",
              "      <td>U</td>\n",
              "      <td>LE3</td>\n",
              "      <td>T</td>\n",
              "      <td>1</td>\n",
              "      <td>1</td>\n",
              "      <td>at_home</td>\n",
              "      <td>other</td>\n",
              "      <td>...</td>\n",
              "      <td>4</td>\n",
              "      <td>3</td>\n",
              "      <td>2</td>\n",
              "      <td>2</td>\n",
              "      <td>3</td>\n",
              "      <td>3</td>\n",
              "      <td>6</td>\n",
              "      <td>12</td>\n",
              "      <td>13</td>\n",
              "      <td>12</td>\n",
              "    </tr>\n",
              "    <tr>\n",
              "      <th>3</th>\n",
              "      <td>GP</td>\n",
              "      <td>F</td>\n",
              "      <td>15</td>\n",
              "      <td>U</td>\n",
              "      <td>GT3</td>\n",
              "      <td>T</td>\n",
              "      <td>4</td>\n",
              "      <td>2</td>\n",
              "      <td>health</td>\n",
              "      <td>services</td>\n",
              "      <td>...</td>\n",
              "      <td>3</td>\n",
              "      <td>2</td>\n",
              "      <td>2</td>\n",
              "      <td>1</td>\n",
              "      <td>1</td>\n",
              "      <td>5</td>\n",
              "      <td>0</td>\n",
              "      <td>14</td>\n",
              "      <td>14</td>\n",
              "      <td>14</td>\n",
              "    </tr>\n",
              "    <tr>\n",
              "      <th>4</th>\n",
              "      <td>GP</td>\n",
              "      <td>F</td>\n",
              "      <td>16</td>\n",
              "      <td>U</td>\n",
              "      <td>GT3</td>\n",
              "      <td>T</td>\n",
              "      <td>3</td>\n",
              "      <td>3</td>\n",
              "      <td>other</td>\n",
              "      <td>other</td>\n",
              "      <td>...</td>\n",
              "      <td>4</td>\n",
              "      <td>3</td>\n",
              "      <td>2</td>\n",
              "      <td>1</td>\n",
              "      <td>2</td>\n",
              "      <td>5</td>\n",
              "      <td>0</td>\n",
              "      <td>11</td>\n",
              "      <td>13</td>\n",
              "      <td>13</td>\n",
              "    </tr>\n",
              "  </tbody>\n",
              "</table>\n",
              "<p>5 rows × 33 columns</p>\n",
              "</div>\n",
              "    <div class=\"colab-df-buttons\">\n",
              "\n",
              "  <div class=\"colab-df-container\">\n",
              "    <button class=\"colab-df-convert\" onclick=\"convertToInteractive('df-a3112ed8-b781-4be1-bf56-8011f1c607ab')\"\n",
              "            title=\"Convert this dataframe to an interactive table.\"\n",
              "            style=\"display:none;\">\n",
              "\n",
              "  <svg xmlns=\"http://www.w3.org/2000/svg\" height=\"24px\" viewBox=\"0 -960 960 960\">\n",
              "    <path d=\"M120-120v-720h720v720H120Zm60-500h600v-160H180v160Zm220 220h160v-160H400v160Zm0 220h160v-160H400v160ZM180-400h160v-160H180v160Zm440 0h160v-160H620v160ZM180-180h160v-160H180v160Zm440 0h160v-160H620v160Z\"/>\n",
              "  </svg>\n",
              "    </button>\n",
              "\n",
              "  <style>\n",
              "    .colab-df-container {\n",
              "      display:flex;\n",
              "      gap: 12px;\n",
              "    }\n",
              "\n",
              "    .colab-df-convert {\n",
              "      background-color: #E8F0FE;\n",
              "      border: none;\n",
              "      border-radius: 50%;\n",
              "      cursor: pointer;\n",
              "      display: none;\n",
              "      fill: #1967D2;\n",
              "      height: 32px;\n",
              "      padding: 0 0 0 0;\n",
              "      width: 32px;\n",
              "    }\n",
              "\n",
              "    .colab-df-convert:hover {\n",
              "      background-color: #E2EBFA;\n",
              "      box-shadow: 0px 1px 2px rgba(60, 64, 67, 0.3), 0px 1px 3px 1px rgba(60, 64, 67, 0.15);\n",
              "      fill: #174EA6;\n",
              "    }\n",
              "\n",
              "    .colab-df-buttons div {\n",
              "      margin-bottom: 4px;\n",
              "    }\n",
              "\n",
              "    [theme=dark] .colab-df-convert {\n",
              "      background-color: #3B4455;\n",
              "      fill: #D2E3FC;\n",
              "    }\n",
              "\n",
              "    [theme=dark] .colab-df-convert:hover {\n",
              "      background-color: #434B5C;\n",
              "      box-shadow: 0px 1px 3px 1px rgba(0, 0, 0, 0.15);\n",
              "      filter: drop-shadow(0px 1px 2px rgba(0, 0, 0, 0.3));\n",
              "      fill: #FFFFFF;\n",
              "    }\n",
              "  </style>\n",
              "\n",
              "    <script>\n",
              "      const buttonEl =\n",
              "        document.querySelector('#df-a3112ed8-b781-4be1-bf56-8011f1c607ab button.colab-df-convert');\n",
              "      buttonEl.style.display =\n",
              "        google.colab.kernel.accessAllowed ? 'block' : 'none';\n",
              "\n",
              "      async function convertToInteractive(key) {\n",
              "        const element = document.querySelector('#df-a3112ed8-b781-4be1-bf56-8011f1c607ab');\n",
              "        const dataTable =\n",
              "          await google.colab.kernel.invokeFunction('convertToInteractive',\n",
              "                                                    [key], {});\n",
              "        if (!dataTable) return;\n",
              "\n",
              "        const docLinkHtml = 'Like what you see? Visit the ' +\n",
              "          '<a target=\"_blank\" href=https://colab.research.google.com/notebooks/data_table.ipynb>data table notebook</a>'\n",
              "          + ' to learn more about interactive tables.';\n",
              "        element.innerHTML = '';\n",
              "        dataTable['output_type'] = 'display_data';\n",
              "        await google.colab.output.renderOutput(dataTable, element);\n",
              "        const docLink = document.createElement('div');\n",
              "        docLink.innerHTML = docLinkHtml;\n",
              "        element.appendChild(docLink);\n",
              "      }\n",
              "    </script>\n",
              "  </div>\n",
              "\n",
              "\n",
              "<div id=\"df-17cf260f-f9f8-41d1-9690-0448c009d06c\">\n",
              "  <button class=\"colab-df-quickchart\" onclick=\"quickchart('df-17cf260f-f9f8-41d1-9690-0448c009d06c')\"\n",
              "            title=\"Suggest charts\"\n",
              "            style=\"display:none;\">\n",
              "\n",
              "<svg xmlns=\"http://www.w3.org/2000/svg\" height=\"24px\"viewBox=\"0 0 24 24\"\n",
              "     width=\"24px\">\n",
              "    <g>\n",
              "        <path d=\"M19 3H5c-1.1 0-2 .9-2 2v14c0 1.1.9 2 2 2h14c1.1 0 2-.9 2-2V5c0-1.1-.9-2-2-2zM9 17H7v-7h2v7zm4 0h-2V7h2v10zm4 0h-2v-4h2v4z\"/>\n",
              "    </g>\n",
              "</svg>\n",
              "  </button>\n",
              "\n",
              "<style>\n",
              "  .colab-df-quickchart {\n",
              "      --bg-color: #E8F0FE;\n",
              "      --fill-color: #1967D2;\n",
              "      --hover-bg-color: #E2EBFA;\n",
              "      --hover-fill-color: #174EA6;\n",
              "      --disabled-fill-color: #AAA;\n",
              "      --disabled-bg-color: #DDD;\n",
              "  }\n",
              "\n",
              "  [theme=dark] .colab-df-quickchart {\n",
              "      --bg-color: #3B4455;\n",
              "      --fill-color: #D2E3FC;\n",
              "      --hover-bg-color: #434B5C;\n",
              "      --hover-fill-color: #FFFFFF;\n",
              "      --disabled-bg-color: #3B4455;\n",
              "      --disabled-fill-color: #666;\n",
              "  }\n",
              "\n",
              "  .colab-df-quickchart {\n",
              "    background-color: var(--bg-color);\n",
              "    border: none;\n",
              "    border-radius: 50%;\n",
              "    cursor: pointer;\n",
              "    display: none;\n",
              "    fill: var(--fill-color);\n",
              "    height: 32px;\n",
              "    padding: 0;\n",
              "    width: 32px;\n",
              "  }\n",
              "\n",
              "  .colab-df-quickchart:hover {\n",
              "    background-color: var(--hover-bg-color);\n",
              "    box-shadow: 0 1px 2px rgba(60, 64, 67, 0.3), 0 1px 3px 1px rgba(60, 64, 67, 0.15);\n",
              "    fill: var(--button-hover-fill-color);\n",
              "  }\n",
              "\n",
              "  .colab-df-quickchart-complete:disabled,\n",
              "  .colab-df-quickchart-complete:disabled:hover {\n",
              "    background-color: var(--disabled-bg-color);\n",
              "    fill: var(--disabled-fill-color);\n",
              "    box-shadow: none;\n",
              "  }\n",
              "\n",
              "  .colab-df-spinner {\n",
              "    border: 2px solid var(--fill-color);\n",
              "    border-color: transparent;\n",
              "    border-bottom-color: var(--fill-color);\n",
              "    animation:\n",
              "      spin 1s steps(1) infinite;\n",
              "  }\n",
              "\n",
              "  @keyframes spin {\n",
              "    0% {\n",
              "      border-color: transparent;\n",
              "      border-bottom-color: var(--fill-color);\n",
              "      border-left-color: var(--fill-color);\n",
              "    }\n",
              "    20% {\n",
              "      border-color: transparent;\n",
              "      border-left-color: var(--fill-color);\n",
              "      border-top-color: var(--fill-color);\n",
              "    }\n",
              "    30% {\n",
              "      border-color: transparent;\n",
              "      border-left-color: var(--fill-color);\n",
              "      border-top-color: var(--fill-color);\n",
              "      border-right-color: var(--fill-color);\n",
              "    }\n",
              "    40% {\n",
              "      border-color: transparent;\n",
              "      border-right-color: var(--fill-color);\n",
              "      border-top-color: var(--fill-color);\n",
              "    }\n",
              "    60% {\n",
              "      border-color: transparent;\n",
              "      border-right-color: var(--fill-color);\n",
              "    }\n",
              "    80% {\n",
              "      border-color: transparent;\n",
              "      border-right-color: var(--fill-color);\n",
              "      border-bottom-color: var(--fill-color);\n",
              "    }\n",
              "    90% {\n",
              "      border-color: transparent;\n",
              "      border-bottom-color: var(--fill-color);\n",
              "    }\n",
              "  }\n",
              "</style>\n",
              "\n",
              "  <script>\n",
              "    async function quickchart(key) {\n",
              "      const quickchartButtonEl =\n",
              "        document.querySelector('#' + key + ' button');\n",
              "      quickchartButtonEl.disabled = true;  // To prevent multiple clicks.\n",
              "      quickchartButtonEl.classList.add('colab-df-spinner');\n",
              "      try {\n",
              "        const charts = await google.colab.kernel.invokeFunction(\n",
              "            'suggestCharts', [key], {});\n",
              "      } catch (error) {\n",
              "        console.error('Error during call to suggestCharts:', error);\n",
              "      }\n",
              "      quickchartButtonEl.classList.remove('colab-df-spinner');\n",
              "      quickchartButtonEl.classList.add('colab-df-quickchart-complete');\n",
              "    }\n",
              "    (() => {\n",
              "      let quickchartButtonEl =\n",
              "        document.querySelector('#df-17cf260f-f9f8-41d1-9690-0448c009d06c button');\n",
              "      quickchartButtonEl.style.display =\n",
              "        google.colab.kernel.accessAllowed ? 'block' : 'none';\n",
              "    })();\n",
              "  </script>\n",
              "</div>\n",
              "    </div>\n",
              "  </div>\n"
            ]
          },
          "metadata": {},
          "execution_count": 6
        }
      ],
      "source": [
        "student_performance.head()"
      ]
    },
    {
      "cell_type": "markdown",
      "metadata": {
        "id": "XKUPl34yWmj-"
      },
      "source": [
        "Quelques statistiques basiques sur les données :"
      ]
    },
    {
      "cell_type": "code",
      "execution_count": 7,
      "metadata": {
        "colab": {
          "base_uri": "https://localhost:8080/",
          "height": 320
        },
        "id": "eE8rl9V0PzHL",
        "outputId": "1b7914a7-ba4f-43d8-e75f-58660f35c1ad"
      },
      "outputs": [
        {
          "output_type": "execute_result",
          "data": {
            "text/plain": [
              "              age        Medu        Fedu  traveltime   studytime    failures  \\\n",
              "count  649.000000  649.000000  649.000000  649.000000  649.000000  649.000000   \n",
              "mean    16.744222    2.514638    2.306626    1.568567    1.930663    0.221880   \n",
              "std      1.218138    1.134552    1.099931    0.748660    0.829510    0.593235   \n",
              "min     15.000000    0.000000    0.000000    1.000000    1.000000    0.000000   \n",
              "25%     16.000000    2.000000    1.000000    1.000000    1.000000    0.000000   \n",
              "50%     17.000000    2.000000    2.000000    1.000000    2.000000    0.000000   \n",
              "75%     18.000000    4.000000    3.000000    2.000000    2.000000    0.000000   \n",
              "max     22.000000    4.000000    4.000000    4.000000    4.000000    3.000000   \n",
              "\n",
              "           famrel    freetime       goout        Dalc        Walc      health  \\\n",
              "count  649.000000  649.000000  649.000000  649.000000  649.000000  649.000000   \n",
              "mean     3.930663    3.180277    3.184900    1.502311    2.280431    3.536210   \n",
              "std      0.955717    1.051093    1.175766    0.924834    1.284380    1.446259   \n",
              "min      1.000000    1.000000    1.000000    1.000000    1.000000    1.000000   \n",
              "25%      4.000000    3.000000    2.000000    1.000000    1.000000    2.000000   \n",
              "50%      4.000000    3.000000    3.000000    1.000000    2.000000    4.000000   \n",
              "75%      5.000000    4.000000    4.000000    2.000000    3.000000    5.000000   \n",
              "max      5.000000    5.000000    5.000000    5.000000    5.000000    5.000000   \n",
              "\n",
              "         absences          G1          G2          G3  \n",
              "count  649.000000  649.000000  649.000000  649.000000  \n",
              "mean     3.659476   11.399076   11.570108   11.906009  \n",
              "std      4.640759    2.745265    2.913639    3.230656  \n",
              "min      0.000000    0.000000    0.000000    0.000000  \n",
              "25%      0.000000   10.000000   10.000000   10.000000  \n",
              "50%      2.000000   11.000000   11.000000   12.000000  \n",
              "75%      6.000000   13.000000   13.000000   14.000000  \n",
              "max     32.000000   19.000000   19.000000   19.000000  "
            ],
            "text/html": [
              "\n",
              "  <div id=\"df-7936d928-cf2a-49a8-9136-5b8705da2016\" class=\"colab-df-container\">\n",
              "    <div>\n",
              "<style scoped>\n",
              "    .dataframe tbody tr th:only-of-type {\n",
              "        vertical-align: middle;\n",
              "    }\n",
              "\n",
              "    .dataframe tbody tr th {\n",
              "        vertical-align: top;\n",
              "    }\n",
              "\n",
              "    .dataframe thead th {\n",
              "        text-align: right;\n",
              "    }\n",
              "</style>\n",
              "<table border=\"1\" class=\"dataframe\">\n",
              "  <thead>\n",
              "    <tr style=\"text-align: right;\">\n",
              "      <th></th>\n",
              "      <th>age</th>\n",
              "      <th>Medu</th>\n",
              "      <th>Fedu</th>\n",
              "      <th>traveltime</th>\n",
              "      <th>studytime</th>\n",
              "      <th>failures</th>\n",
              "      <th>famrel</th>\n",
              "      <th>freetime</th>\n",
              "      <th>goout</th>\n",
              "      <th>Dalc</th>\n",
              "      <th>Walc</th>\n",
              "      <th>health</th>\n",
              "      <th>absences</th>\n",
              "      <th>G1</th>\n",
              "      <th>G2</th>\n",
              "      <th>G3</th>\n",
              "    </tr>\n",
              "  </thead>\n",
              "  <tbody>\n",
              "    <tr>\n",
              "      <th>count</th>\n",
              "      <td>649.000000</td>\n",
              "      <td>649.000000</td>\n",
              "      <td>649.000000</td>\n",
              "      <td>649.000000</td>\n",
              "      <td>649.000000</td>\n",
              "      <td>649.000000</td>\n",
              "      <td>649.000000</td>\n",
              "      <td>649.000000</td>\n",
              "      <td>649.000000</td>\n",
              "      <td>649.000000</td>\n",
              "      <td>649.000000</td>\n",
              "      <td>649.000000</td>\n",
              "      <td>649.000000</td>\n",
              "      <td>649.000000</td>\n",
              "      <td>649.000000</td>\n",
              "      <td>649.000000</td>\n",
              "    </tr>\n",
              "    <tr>\n",
              "      <th>mean</th>\n",
              "      <td>16.744222</td>\n",
              "      <td>2.514638</td>\n",
              "      <td>2.306626</td>\n",
              "      <td>1.568567</td>\n",
              "      <td>1.930663</td>\n",
              "      <td>0.221880</td>\n",
              "      <td>3.930663</td>\n",
              "      <td>3.180277</td>\n",
              "      <td>3.184900</td>\n",
              "      <td>1.502311</td>\n",
              "      <td>2.280431</td>\n",
              "      <td>3.536210</td>\n",
              "      <td>3.659476</td>\n",
              "      <td>11.399076</td>\n",
              "      <td>11.570108</td>\n",
              "      <td>11.906009</td>\n",
              "    </tr>\n",
              "    <tr>\n",
              "      <th>std</th>\n",
              "      <td>1.218138</td>\n",
              "      <td>1.134552</td>\n",
              "      <td>1.099931</td>\n",
              "      <td>0.748660</td>\n",
              "      <td>0.829510</td>\n",
              "      <td>0.593235</td>\n",
              "      <td>0.955717</td>\n",
              "      <td>1.051093</td>\n",
              "      <td>1.175766</td>\n",
              "      <td>0.924834</td>\n",
              "      <td>1.284380</td>\n",
              "      <td>1.446259</td>\n",
              "      <td>4.640759</td>\n",
              "      <td>2.745265</td>\n",
              "      <td>2.913639</td>\n",
              "      <td>3.230656</td>\n",
              "    </tr>\n",
              "    <tr>\n",
              "      <th>min</th>\n",
              "      <td>15.000000</td>\n",
              "      <td>0.000000</td>\n",
              "      <td>0.000000</td>\n",
              "      <td>1.000000</td>\n",
              "      <td>1.000000</td>\n",
              "      <td>0.000000</td>\n",
              "      <td>1.000000</td>\n",
              "      <td>1.000000</td>\n",
              "      <td>1.000000</td>\n",
              "      <td>1.000000</td>\n",
              "      <td>1.000000</td>\n",
              "      <td>1.000000</td>\n",
              "      <td>0.000000</td>\n",
              "      <td>0.000000</td>\n",
              "      <td>0.000000</td>\n",
              "      <td>0.000000</td>\n",
              "    </tr>\n",
              "    <tr>\n",
              "      <th>25%</th>\n",
              "      <td>16.000000</td>\n",
              "      <td>2.000000</td>\n",
              "      <td>1.000000</td>\n",
              "      <td>1.000000</td>\n",
              "      <td>1.000000</td>\n",
              "      <td>0.000000</td>\n",
              "      <td>4.000000</td>\n",
              "      <td>3.000000</td>\n",
              "      <td>2.000000</td>\n",
              "      <td>1.000000</td>\n",
              "      <td>1.000000</td>\n",
              "      <td>2.000000</td>\n",
              "      <td>0.000000</td>\n",
              "      <td>10.000000</td>\n",
              "      <td>10.000000</td>\n",
              "      <td>10.000000</td>\n",
              "    </tr>\n",
              "    <tr>\n",
              "      <th>50%</th>\n",
              "      <td>17.000000</td>\n",
              "      <td>2.000000</td>\n",
              "      <td>2.000000</td>\n",
              "      <td>1.000000</td>\n",
              "      <td>2.000000</td>\n",
              "      <td>0.000000</td>\n",
              "      <td>4.000000</td>\n",
              "      <td>3.000000</td>\n",
              "      <td>3.000000</td>\n",
              "      <td>1.000000</td>\n",
              "      <td>2.000000</td>\n",
              "      <td>4.000000</td>\n",
              "      <td>2.000000</td>\n",
              "      <td>11.000000</td>\n",
              "      <td>11.000000</td>\n",
              "      <td>12.000000</td>\n",
              "    </tr>\n",
              "    <tr>\n",
              "      <th>75%</th>\n",
              "      <td>18.000000</td>\n",
              "      <td>4.000000</td>\n",
              "      <td>3.000000</td>\n",
              "      <td>2.000000</td>\n",
              "      <td>2.000000</td>\n",
              "      <td>0.000000</td>\n",
              "      <td>5.000000</td>\n",
              "      <td>4.000000</td>\n",
              "      <td>4.000000</td>\n",
              "      <td>2.000000</td>\n",
              "      <td>3.000000</td>\n",
              "      <td>5.000000</td>\n",
              "      <td>6.000000</td>\n",
              "      <td>13.000000</td>\n",
              "      <td>13.000000</td>\n",
              "      <td>14.000000</td>\n",
              "    </tr>\n",
              "    <tr>\n",
              "      <th>max</th>\n",
              "      <td>22.000000</td>\n",
              "      <td>4.000000</td>\n",
              "      <td>4.000000</td>\n",
              "      <td>4.000000</td>\n",
              "      <td>4.000000</td>\n",
              "      <td>3.000000</td>\n",
              "      <td>5.000000</td>\n",
              "      <td>5.000000</td>\n",
              "      <td>5.000000</td>\n",
              "      <td>5.000000</td>\n",
              "      <td>5.000000</td>\n",
              "      <td>5.000000</td>\n",
              "      <td>32.000000</td>\n",
              "      <td>19.000000</td>\n",
              "      <td>19.000000</td>\n",
              "      <td>19.000000</td>\n",
              "    </tr>\n",
              "  </tbody>\n",
              "</table>\n",
              "</div>\n",
              "    <div class=\"colab-df-buttons\">\n",
              "\n",
              "  <div class=\"colab-df-container\">\n",
              "    <button class=\"colab-df-convert\" onclick=\"convertToInteractive('df-7936d928-cf2a-49a8-9136-5b8705da2016')\"\n",
              "            title=\"Convert this dataframe to an interactive table.\"\n",
              "            style=\"display:none;\">\n",
              "\n",
              "  <svg xmlns=\"http://www.w3.org/2000/svg\" height=\"24px\" viewBox=\"0 -960 960 960\">\n",
              "    <path d=\"M120-120v-720h720v720H120Zm60-500h600v-160H180v160Zm220 220h160v-160H400v160Zm0 220h160v-160H400v160ZM180-400h160v-160H180v160Zm440 0h160v-160H620v160ZM180-180h160v-160H180v160Zm440 0h160v-160H620v160Z\"/>\n",
              "  </svg>\n",
              "    </button>\n",
              "\n",
              "  <style>\n",
              "    .colab-df-container {\n",
              "      display:flex;\n",
              "      gap: 12px;\n",
              "    }\n",
              "\n",
              "    .colab-df-convert {\n",
              "      background-color: #E8F0FE;\n",
              "      border: none;\n",
              "      border-radius: 50%;\n",
              "      cursor: pointer;\n",
              "      display: none;\n",
              "      fill: #1967D2;\n",
              "      height: 32px;\n",
              "      padding: 0 0 0 0;\n",
              "      width: 32px;\n",
              "    }\n",
              "\n",
              "    .colab-df-convert:hover {\n",
              "      background-color: #E2EBFA;\n",
              "      box-shadow: 0px 1px 2px rgba(60, 64, 67, 0.3), 0px 1px 3px 1px rgba(60, 64, 67, 0.15);\n",
              "      fill: #174EA6;\n",
              "    }\n",
              "\n",
              "    .colab-df-buttons div {\n",
              "      margin-bottom: 4px;\n",
              "    }\n",
              "\n",
              "    [theme=dark] .colab-df-convert {\n",
              "      background-color: #3B4455;\n",
              "      fill: #D2E3FC;\n",
              "    }\n",
              "\n",
              "    [theme=dark] .colab-df-convert:hover {\n",
              "      background-color: #434B5C;\n",
              "      box-shadow: 0px 1px 3px 1px rgba(0, 0, 0, 0.15);\n",
              "      filter: drop-shadow(0px 1px 2px rgba(0, 0, 0, 0.3));\n",
              "      fill: #FFFFFF;\n",
              "    }\n",
              "  </style>\n",
              "\n",
              "    <script>\n",
              "      const buttonEl =\n",
              "        document.querySelector('#df-7936d928-cf2a-49a8-9136-5b8705da2016 button.colab-df-convert');\n",
              "      buttonEl.style.display =\n",
              "        google.colab.kernel.accessAllowed ? 'block' : 'none';\n",
              "\n",
              "      async function convertToInteractive(key) {\n",
              "        const element = document.querySelector('#df-7936d928-cf2a-49a8-9136-5b8705da2016');\n",
              "        const dataTable =\n",
              "          await google.colab.kernel.invokeFunction('convertToInteractive',\n",
              "                                                    [key], {});\n",
              "        if (!dataTable) return;\n",
              "\n",
              "        const docLinkHtml = 'Like what you see? Visit the ' +\n",
              "          '<a target=\"_blank\" href=https://colab.research.google.com/notebooks/data_table.ipynb>data table notebook</a>'\n",
              "          + ' to learn more about interactive tables.';\n",
              "        element.innerHTML = '';\n",
              "        dataTable['output_type'] = 'display_data';\n",
              "        await google.colab.output.renderOutput(dataTable, element);\n",
              "        const docLink = document.createElement('div');\n",
              "        docLink.innerHTML = docLinkHtml;\n",
              "        element.appendChild(docLink);\n",
              "      }\n",
              "    </script>\n",
              "  </div>\n",
              "\n",
              "\n",
              "<div id=\"df-edd0fdb5-0a51-4f14-96d4-0401a3851cf1\">\n",
              "  <button class=\"colab-df-quickchart\" onclick=\"quickchart('df-edd0fdb5-0a51-4f14-96d4-0401a3851cf1')\"\n",
              "            title=\"Suggest charts\"\n",
              "            style=\"display:none;\">\n",
              "\n",
              "<svg xmlns=\"http://www.w3.org/2000/svg\" height=\"24px\"viewBox=\"0 0 24 24\"\n",
              "     width=\"24px\">\n",
              "    <g>\n",
              "        <path d=\"M19 3H5c-1.1 0-2 .9-2 2v14c0 1.1.9 2 2 2h14c1.1 0 2-.9 2-2V5c0-1.1-.9-2-2-2zM9 17H7v-7h2v7zm4 0h-2V7h2v10zm4 0h-2v-4h2v4z\"/>\n",
              "    </g>\n",
              "</svg>\n",
              "  </button>\n",
              "\n",
              "<style>\n",
              "  .colab-df-quickchart {\n",
              "      --bg-color: #E8F0FE;\n",
              "      --fill-color: #1967D2;\n",
              "      --hover-bg-color: #E2EBFA;\n",
              "      --hover-fill-color: #174EA6;\n",
              "      --disabled-fill-color: #AAA;\n",
              "      --disabled-bg-color: #DDD;\n",
              "  }\n",
              "\n",
              "  [theme=dark] .colab-df-quickchart {\n",
              "      --bg-color: #3B4455;\n",
              "      --fill-color: #D2E3FC;\n",
              "      --hover-bg-color: #434B5C;\n",
              "      --hover-fill-color: #FFFFFF;\n",
              "      --disabled-bg-color: #3B4455;\n",
              "      --disabled-fill-color: #666;\n",
              "  }\n",
              "\n",
              "  .colab-df-quickchart {\n",
              "    background-color: var(--bg-color);\n",
              "    border: none;\n",
              "    border-radius: 50%;\n",
              "    cursor: pointer;\n",
              "    display: none;\n",
              "    fill: var(--fill-color);\n",
              "    height: 32px;\n",
              "    padding: 0;\n",
              "    width: 32px;\n",
              "  }\n",
              "\n",
              "  .colab-df-quickchart:hover {\n",
              "    background-color: var(--hover-bg-color);\n",
              "    box-shadow: 0 1px 2px rgba(60, 64, 67, 0.3), 0 1px 3px 1px rgba(60, 64, 67, 0.15);\n",
              "    fill: var(--button-hover-fill-color);\n",
              "  }\n",
              "\n",
              "  .colab-df-quickchart-complete:disabled,\n",
              "  .colab-df-quickchart-complete:disabled:hover {\n",
              "    background-color: var(--disabled-bg-color);\n",
              "    fill: var(--disabled-fill-color);\n",
              "    box-shadow: none;\n",
              "  }\n",
              "\n",
              "  .colab-df-spinner {\n",
              "    border: 2px solid var(--fill-color);\n",
              "    border-color: transparent;\n",
              "    border-bottom-color: var(--fill-color);\n",
              "    animation:\n",
              "      spin 1s steps(1) infinite;\n",
              "  }\n",
              "\n",
              "  @keyframes spin {\n",
              "    0% {\n",
              "      border-color: transparent;\n",
              "      border-bottom-color: var(--fill-color);\n",
              "      border-left-color: var(--fill-color);\n",
              "    }\n",
              "    20% {\n",
              "      border-color: transparent;\n",
              "      border-left-color: var(--fill-color);\n",
              "      border-top-color: var(--fill-color);\n",
              "    }\n",
              "    30% {\n",
              "      border-color: transparent;\n",
              "      border-left-color: var(--fill-color);\n",
              "      border-top-color: var(--fill-color);\n",
              "      border-right-color: var(--fill-color);\n",
              "    }\n",
              "    40% {\n",
              "      border-color: transparent;\n",
              "      border-right-color: var(--fill-color);\n",
              "      border-top-color: var(--fill-color);\n",
              "    }\n",
              "    60% {\n",
              "      border-color: transparent;\n",
              "      border-right-color: var(--fill-color);\n",
              "    }\n",
              "    80% {\n",
              "      border-color: transparent;\n",
              "      border-right-color: var(--fill-color);\n",
              "      border-bottom-color: var(--fill-color);\n",
              "    }\n",
              "    90% {\n",
              "      border-color: transparent;\n",
              "      border-bottom-color: var(--fill-color);\n",
              "    }\n",
              "  }\n",
              "</style>\n",
              "\n",
              "  <script>\n",
              "    async function quickchart(key) {\n",
              "      const quickchartButtonEl =\n",
              "        document.querySelector('#' + key + ' button');\n",
              "      quickchartButtonEl.disabled = true;  // To prevent multiple clicks.\n",
              "      quickchartButtonEl.classList.add('colab-df-spinner');\n",
              "      try {\n",
              "        const charts = await google.colab.kernel.invokeFunction(\n",
              "            'suggestCharts', [key], {});\n",
              "      } catch (error) {\n",
              "        console.error('Error during call to suggestCharts:', error);\n",
              "      }\n",
              "      quickchartButtonEl.classList.remove('colab-df-spinner');\n",
              "      quickchartButtonEl.classList.add('colab-df-quickchart-complete');\n",
              "    }\n",
              "    (() => {\n",
              "      let quickchartButtonEl =\n",
              "        document.querySelector('#df-edd0fdb5-0a51-4f14-96d4-0401a3851cf1 button');\n",
              "      quickchartButtonEl.style.display =\n",
              "        google.colab.kernel.accessAllowed ? 'block' : 'none';\n",
              "    })();\n",
              "  </script>\n",
              "</div>\n",
              "    </div>\n",
              "  </div>\n"
            ]
          },
          "metadata": {},
          "execution_count": 7
        }
      ],
      "source": [
        "student_performance.describe()"
      ]
    },
    {
      "cell_type": "markdown",
      "metadata": {
        "id": "3KgSNgECFwk6"
      },
      "source": [
        "On peut grâce à ces statistiques dresser un premier \"portrait robot\" de nos individus.\n",
        "\n",
        "On a affaire à des élèves qui semblent être dans l'équivalent portugais de la classe de Terminale étant donnée la moyenne d'âge de 16,74 ans.\n",
        "\n",
        "On peut également se rendre compte que le niveau d'éducation de leurs parents est relativement hétérogène bien que correct dans l'ensemble ( la médiane de \"Fedu\" et \"Medu\" est de 2 sur une échelle discrète de 0 à 4 tandis que le 3ème quartile est à 4 pour \"Medu\" et 3 pour \"Fedu\").\n",
        "\n",
        "On a également affaire à des élèves qui ont très peu d'échecs à leur actif (la moyenne de \"failures\", le nombre d'échecs est à 0,22 avec un troisième quartile à 0).\n",
        "\n",
        "Dans l'ensembles, les élèves ont également de bonnes relations avec leurs parents ( une moyenne de 3,93 et un premier quartile à 4 sur une échelle discrète de 1 à 5 pour la variable \"famrel\").\n",
        "\n",
        "Enfin, le niveau des élèves est correct avec des moyennes de G1, G2 et G3 entre 11,40 et 11,91.\n",
        "\n",
        "\n"
      ]
    },
    {
      "cell_type": "markdown",
      "metadata": {
        "id": "O2s_eyeDWt53"
      },
      "source": [
        "***III) Visualisation des données***"
      ]
    },
    {
      "cell_type": "code",
      "execution_count": 8,
      "metadata": {
        "colab": {
          "base_uri": "https://localhost:8080/",
          "height": 662
        },
        "id": "MIYp7xt0b8yL",
        "outputId": "4d14eb88-e980-4d1a-d160-ada8a5472091"
      },
      "outputs": [
        {
          "output_type": "display_data",
          "data": {
            "text/plain": [
              "<Figure size 2000x1500 with 16 Axes>"
            ],
            "image/png": "[encoded data removed]"
          },
          "metadata": {}
        }
      ],
      "source": [
        "student_performance.hist(bins=50,figsize=(20,15))\n",
        "plt.show()"
      ]
    },
    {
      "cell_type": "markdown",
      "metadata": {
        "id": "qe3ZYwS5dfbz"
      },
      "source": [
        "Etant donné que nos valeurs numériques sont bornées, on voit assez peu de valeurs aberrantes (outliers). On notera toutefois la quantité significative d'étudiants ayant reçu un 0 alors qu'aucun n'a reçu une note comprise entre 1 et 4. Ce sera intéressant de voir comment notre modèle va gérer ça.\n",
        "\n",
        "  De plus, il y a quand même une certaine différence d'échelle entre les différentes variables (les valeurs de la catégorie \"absences\" sont comprises entre 0 et 30, celles de la catégorie \"age\" de 0 à 22, celles des catégories \"G1\", \"G2\" et \"G3\" de 0 à 20 tandis que les autres sont en gros entre 0 et 5).\n",
        "\n",
        "  On sera donc probablement amené à devoir normaliser les données."
      ]
    },
    {
      "cell_type": "markdown",
      "metadata": {
        "id": "xUpoz6Jmp226"
      },
      "source": [
        " Pour avoir une meilleure visualisation de la répartition de nos données, on va représenter nos variables numériques sous forme de BoxPlots et nos variables catégorielles sous forme de CountPlots:"
      ]
    },
    {
      "cell_type": "markdown",
      "metadata": {
        "id": "pX8noW5u-nuS"
      },
      "source": [
        "**Variables numériques :**"
      ]
    },
    {
      "cell_type": "code",
      "execution_count": 9,
      "metadata": {
        "colab": {
          "base_uri": "https://localhost:8080/",
          "height": 430
        },
        "id": "KFAF2Xh6-QBf",
        "outputId": "32b52541-4cce-4670-e60b-c905aa192bef"
      },
      "outputs": [
        {
          "output_type": "display_data",
          "data": {
            "text/plain": [
              "<Figure size 640x480 with 1 Axes>"
            ],
            "image/png": "[encoded data removed]"
          },
          "metadata": {}
        }
      ],
      "source": [
        "sns.boxplot(data=data[numerical_features], orient=\"v\")\n",
        "plt.show()"
      ]
    },
    {
      "cell_type": "markdown",
      "metadata": {
        "id": "fbr8ZG2h1wV1"
      },
      "source": [
        "On remarque que dans toutes les catégories numériques, il y a un nombre conséquent de données beaucoup plus faibles que le premier quartile et d'autres beaucoup plus élevées que le troisième quartile (en dehors de la boîte à moustache). Cela montre qu'il y a des outliers dans nos données numériques."
      ]
    },
    {
      "cell_type": "markdown",
      "metadata": {
        "id": "FARLsan5-vTO"
      },
      "source": [
        "**Variables catégorielles :**"
      ]
    },
    {
      "cell_type": "code",
      "execution_count": null,
      "metadata": {
        "colab": {
          "base_uri": "https://localhost:8080/",
          "height": 1000
        },
        "id": "Y-grUUwQ-0LH",
        "outputId": "3dba6cbe-a304-4154-8dfd-43c1f3de9f30"
      },
      "outputs": [
        {
          "output_type": "display_data",
          "data": {
            "text/plain": [
              "<Figure size 1000x600 with 1 Axes>"
            ],
            "image/png": "[encoded data removed]"
          },
          "metadata": {}
        },
        {
          "output_type": "display_data",
          "data": {
            "text/plain": [
              "<Figure size 1000x600 with 1 Axes>"
            ],
            "image/png": "[encoded data removed]"
          },
          "metadata": {}
        },
        {
          "output_type": "display_data",
          "data": {
            "text/plain": [
              "<Figure size 1000x600 with 1 Axes>"
            ],
            "image/png": "[encoded data removed]"
          },
          "metadata": {}
        },
        {
          "output_type": "display_data",
          "data": {
            "text/plain": [
              "<Figure size 1000x600 with 1 Axes>"
            ],
            "image/png": "[encoded data removed]"
          },
          "metadata": {}
        },
        {
          "output_type": "display_data",
          "data": {
            "text/plain": [
              "<Figure size 1000x600 with 1 Axes>"
            ],
            "image/png": "[encoded data removed]"
          },
          "metadata": {}
        },
        {
          "output_type": "display_data",
          "data": {
            "text/plain": [
              "<Figure size 1000x600 with 1 Axes>"
            ],
            "image/png": "[encoded data removed]"
          },
          "metadata": {}
        },
        {
          "output_type": "display_data",
          "data": {
            "text/plain": [
              "<Figure size 1000x600 with 1 Axes>"
            ],
            "image/png": "[encoded data removed]"
          },
          "metadata": {}
        },
        {
          "output_type": "display_data",
          "data": {
            "text/plain": [
              "<Figure size 1000x600 with 1 Axes>"
            ],
            "image/png": "[encoded data removed]"
          },
          "metadata": {}
        },
        {
          "output_type": "display_data",
          "data": {
            "text/plain": [
              "<Figure size 1000x600 with 1 Axes>"
            ],
            "image/png": "[encoded data removed]"
          },
          "metadata": {}
        },
        {
          "output_type": "display_data",
          "data": {
            "text/plain": [
              "<Figure size 1000x600 with 1 Axes>"
            ],
            "image/png": "[encoded data removed]"
          },
          "metadata": {}
        }
      ],
      "source": [
        "categorical_columns = categorical_features.columns\n",
        "\n",
        "\n",
        "for column in categorical_columns:\n",
        "    plt.figure(figsize=(10, 6))\n",
        "    sns.countplot(x=column, data=categorical_features)\n",
        "    plt.title(f'Countplot for {column}')\n",
        "    plt.show()"
      ]
    },
    {
      "cell_type": "markdown",
      "metadata": {
        "id": "-HzmcIoe3z2g"
      },
      "source": [
        "Tout d'abord, notre dataset manque de précision pour certaines variables. Par exemple, environ 360 échantillons ont leur variable \"Fjob\" qui vaut \"other\". Cela va forcément faire diminuer la pertinence de la prédiction de notre modèle.\n",
        "\n",
        "De plus, beaucoup de nos variables catégorielles ont des classes déséquilibrées. Par exemple : seuls environ 20 élèves se voient payer des cours de soutien en portugais par leurs parents ou bien environ 50 élèves ne veulent pas accéder aux études supérieures .\n",
        "\n",
        "Cela posera peut-être problème à notre modèle car il aura peu de données de ces classes pour s'entraîner. **D'où la nécessité de stratifier les données au moment de les \"spliter\".**"
      ]
    },
    {
      "cell_type": "code",
      "execution_count": null,
      "metadata": {
        "id": "QNVvdVwgjcJ3"
      },
      "outputs": [],
      "source": [
        "\n",
        "sns.histplot(\n",
        "    data=student_performance.query(\"address=='U'or address=='R'\"),\n",
        "    x=\"G3\",\n",
        "    hue=\"address\",\n",
        "    stat=\"density\",\n",
        "    common_norm=False,\n",
        ");"
      ]
    },
    {
      "cell_type": "markdown",
      "metadata": {
        "id": "goOnjW9wl0sb"
      },
      "source": [
        "A première vue, il semble que les élèves qui viennent de zones urbaines ont plus de chance d'avoir une bonne moyenne en portugais au 3ème trimestre que les élèves venant de zones rurales."
      ]
    },
    {
      "cell_type": "code",
      "execution_count": null,
      "metadata": {
        "id": "Gu1EGtMlmQXz"
      },
      "outputs": [],
      "source": [
        "sns.histplot(\n",
        "    data=student_performance.query(\"romantic=='yes'or romantic=='no'\"),\n",
        "    x=\"G3\",\n",
        "    hue=\"romantic\",\n",
        "    stat=\"density\",\n",
        "    common_norm=False,\n",
        ");"
      ]
    },
    {
      "cell_type": "markdown",
      "metadata": {
        "id": "kazCt96LnvYK"
      },
      "source": [
        "On constate que les élèves en échec (moyenne inférieure à 10) ont tendance à être en couple. Pour les notes correctes (entre 11 et 14) il y a une part conséquente d'élèves en couple. Par contre, les bons élèves (plus de 14) ont tendance à être célibataires."
      ]
    },
    {
      "cell_type": "code",
      "execution_count": null,
      "metadata": {
        "id": "gLfoTjSWntWA"
      },
      "outputs": [],
      "source": [
        "sns.histplot(\n",
        "    data=student_performance.query(\"Fedu==0 or Fedu==1 or Fedu==2 or Fedu==3 or Fedu==4\"),\n",
        "    x=\"G3\",\n",
        "    hue=\"Fedu\",\n",
        "    stat=\"density\",\n",
        "    common_norm=False,\n",
        ");"
      ]
    },
    {
      "cell_type": "markdown",
      "metadata": {
        "id": "BWFn3ZU5pzbv"
      },
      "source": [
        "Ici, il est nettement plus difficile de déceler des tendances (d'où la nécessité de développer un modèle de machine learning et de ne pas se contenter de visualiser les données avec matplotlib et seaborn).\n",
        "\n",
        "On peut toutefois noter qu'il semble que parmi les étudiants ayant des notes moyennes (entre 8 et 12) et parmi les étudiants ayant de très bonnes notes (plus de de 16,5) il y a beaucoup d'élèves dont le père n'a pas une très bonne situation professionnelle (catégories 1 et 2). De plus, on remarque que parmi les élèves ayant de bonnes notes (entre 12 et 16) il y a une proportion importante d'élèves dont le père a une bonne situation professionnelle (catégories 3 et 4)."
      ]
    },
    {
      "cell_type": "markdown",
      "metadata": {
        "id": "1vM3XRmBCZcK"
      },
      "source": [
        "On va à présent utiliser pairplot pour visualiser la relation entre toutes les paires de variables."
      ]
    },
    {
      "cell_type": "code",
      "execution_count": null,
      "metadata": {
        "id": "9NgwF2OgEB5N"
      },
      "outputs": [],
      "source": [
        "sns.pairplot(data)\n",
        "plt.show()"
      ]
    },
    {
      "cell_type": "markdown",
      "metadata": {
        "id": "99HNjQMSE06F"
      },
      "source": [
        "On a du mal à vraiment déceler de tendances ou des corrélations avec ce pairplot."
      ]
    },
    {
      "cell_type": "markdown",
      "metadata": {
        "id": "v9hnAm5grRS7"
      },
      "source": [
        "Pour y remédier, va maintenant chercher à mettre en évidence de manière plus précise les corrélations qui existent entre chacune de nos variables et notre target  G3.\n",
        "Pour cela, on affiche la matrice de corrélation de chacune de nos variables ainsi que la carte de chaleur (heatmap) de ces dernières :"
      ]
    },
    {
      "cell_type": "code",
      "execution_count": null,
      "metadata": {
        "id": "WFcwgUqa7nFh"
      },
      "outputs": [],
      "source": [
        "correlation_matrix=student_performance.corr()\n",
        "print(\"Matrice de corrélation :\\n\", correlation_matrix)"
      ]
    },
    {
      "cell_type": "code",
      "execution_count": null,
      "metadata": {
        "id": "6iihZwPV8H22"
      },
      "outputs": [],
      "source": [
        "plt.figure(figsize=(10, 8))\n",
        "sns.heatmap(correlation_matrix, annot=True, cmap='coolwarm', fmt=\".2f\")\n",
        "plt.title('Matrice de corrélation')\n",
        "plt.show()"
      ]
    },
    {
      "cell_type": "markdown",
      "metadata": {
        "id": "GTYDeveY9gQS"
      },
      "source": [
        "On remarque que G1, G2 et G3 sont très fortement corrélées (0,86 entre G1 et G2, 0,83 entre G1 et G3 et 0,92 entre G2 et G3). C'est tout à fait logique. En effet, beaucoup d'élèves qui étaient en échec (respectivement en réussite) aux précédents trimestres seront en échec (respectivement en réussite) au dernier trimestre.\n",
        "\n",
        "Le fait qu'il y ait une telle corrrélation entre G1, G2 et notre target rend notre projet beaucoup moins utile et pertinent. **On choisit donc de supprimer les variables de notre dataset pour ne garder que les variables purement \"sociales\".**\n",
        "\n",
        "\n",
        "\n"
      ]
    },
    {
      "cell_type": "code",
      "execution_count": null,
      "metadata": {
        "id": "2hEd11P2Ba2y"
      },
      "outputs": [],
      "source": [
        "'''data=data.drop(columns=\"G1\")\n",
        "data=data.drop(columns=\"G2\")'''\n"
      ]
    },
    {
      "cell_type": "markdown",
      "metadata": {
        "id": "Ltem6qqo65nt"
      },
      "source": [
        "Par ailleurs, les autres variables corrélées à la target sont : \"studytime\" (0,25), \"Medu\" (0,24), \"Fedu\" (0,21) qui sont positivement corrélées et \"Dalc\" (-0,20) et \"Walc\" (-0,18) qui sont négativement corrélées."
      ]
    },
    {
      "cell_type": "code",
      "execution_count": null,
      "metadata": {
        "id": "ndAnToiXDtRP"
      },
      "outputs": [],
      "source": [
        "data.info()"
      ]
    },
    {
      "cell_type": "markdown",
      "metadata": {
        "id": "XOnL1qRXD9UK"
      },
      "source": [
        "On remarque également que les variables \"Fedu\" et \"Medu\" qui représentent respectivement le niveau d'études du père de l'élève et celui de sa mère sont fortement corrélées  (0,65) ce qui signifie que de manière générale les gens ont tendance à se mettre en couple avec des gens ayant le même capital culturel/scolaire qu'eux. De même, les variables \"Dalc\" et \"Walc\" qui représentent respectivement la consommation d'alcool en semaine de l'étudiant et sa consommation d'alcool par week-end sont fortement corrélées (0,62) .\n",
        "\n",
        "**On peut donc légitimement se demander s'il ne serait pas possible de supprimer une des variables du couple (\"Fedu\", \"Medu\") et une des variables du couple (\"Walc\", \"Dalc\") puisqu'elles semblent redondantes vis-à-vis de l'autre.**"
      ]
    },
    {
      "cell_type": "markdown",
      "metadata": {
        "id": "TQdEoQisi7ir"
      },
      "source": [
        "***IV) Pré-traitement et nettoyage des données***"
      ]
    },
    {
      "cell_type": "markdown",
      "metadata": {
        "id": "MV32m2ugFD_V"
      },
      "source": [
        "Cette réflexion introduit parfaitement notre prochaine étape : le nettoyage et le pré-traitement (pre-processing) des données."
      ]
    },
    {
      "cell_type": "markdown",
      "metadata": {
        "id": "S1JqWwAKOnaS"
      },
      "source": [
        "On choisit d'abord de séparer notre dataset en un train set (80% du dataset) et un test set (20% du dataset)."
      ]
    },
    {
      "cell_type": "code",
      "execution_count": null,
      "metadata": {
        "id": "e095PRRVViHf"
      },
      "outputs": [],
      "source": [
        "X,y=data,target"
      ]
    },
    {
      "cell_type": "code",
      "execution_count": null,
      "metadata": {
        "id": "DyFUhG0_U5Ss"
      },
      "outputs": [],
      "source": [
        "y.value_counts()"
      ]
    },
    {
      "cell_type": "code",
      "execution_count": null,
      "metadata": {
        "id": "vSwlnqFEG_5O"
      },
      "outputs": [],
      "source": [
        "X_train, X_test, y_train, y_test = train_test_split(X, y, test_size=0.2, random_state=1)\n",
        "\n",
        "y_test.value_counts()"
      ]
    },
    {
      "cell_type": "code",
      "execution_count": null,
      "metadata": {
        "colab": {
          "background_save": true
        },
        "id": "8oGwdsHOXbY8"
      },
      "outputs": [],
      "source": [
        "X_train"
      ]
    },
    {
      "cell_type": "markdown",
      "metadata": {
        "id": "wl_NuJYuVmGS"
      },
      "source": [
        "On remarque que la proportion des différentes classes de G3 n'est pas exactement la même dans y_test que dans y (par exemple la classe 12 représente 11% des valeurs alors qu'elle ne représente que 7% des\n",
        "valeurs de y_test).\n",
        "\n",
        "On pourrait penser que le fait d'imposer **une stratification empêcherait ce genre de souci**. Le problème c'est que lorsque l'on tente de stratifier on reçoit un message d'erreur car certaines de nos classes ne comportent qu'un élément, cette classe sera donc forcément absente soit de y_train soit de y_test.\n",
        "\n",
        "**Cela illustre une faiblesse intrinsèque de notre dataset : il possède un nombre d'instances (649) un peu faible.**\n",
        "\n",
        "N'ayant pas le choix, on va continuer le projet sans stratifier le train set et le test set en espérant que cela n'ait pas trop d'impact négatif sur les performances de notre modèle."
      ]
    },
    {
      "cell_type": "markdown",
      "metadata": {
        "id": "nmdY4JYrZLIO"
      },
      "source": [
        "\n",
        "\n",
        "\n",
        "\n",
        "On va maintenant normaliser nos données afin de faciliter le travail de notre modèle (cela évite qu'une variable prenne plus d'\"importance\" que d'autres lors de l'exécution de notre algorithme).\n",
        "On choisit d'utiliser StandardScaler (plutôt que MinMaxScaler ou RobustScaler par exemple) car c'est un scaler plus adapté au PCA."
      ]
    },
    {
      "cell_type": "code",
      "execution_count": null,
      "metadata": {
        "colab": {
          "background_save": true
        },
        "id": "du88sSaMXjbB"
      },
      "outputs": [],
      "source": [
        "new_numerical_features = [\"age\", \"failures\", \"absences\",\"G1\",\"G2\"]\n",
        "\n",
        "\n",
        "\n",
        "scaler = StandardScaler()\n",
        "X_train[new_numerical_features] = scaler.fit_transform(X_train[new_numerical_features])\n",
        "X_test[new_numerical_features] = scaler.transform(X_test[new_numerical_features])\n"
      ]
    },
    {
      "cell_type": "code",
      "execution_count": null,
      "metadata": {
        "colab": {
          "background_save": true
        },
        "id": "1jmMZ5I26NAR"
      },
      "outputs": [],
      "source": [
        "X_test.head()\n"
      ]
    },
    {
      "cell_type": "markdown",
      "metadata": {
        "id": "oM3r3DKad2WE"
      },
      "source": [
        "Maintenant, on encode les variables catégorielles au moyen de get_dummies et pas de OneHotEncoder (mais cela revient sensiblement au même) car cela provoquait l'apparition de valeurs manquantes (je n'arrive pas à expliquer cela mais l'essentiel est que le problème soit résolu) :"
      ]
    },
    {
      "cell_type": "code",
      "execution_count": null,
      "metadata": {
        "colab": {
          "background_save": true
        },
        "id": "CosNVPqQmZ-A"
      },
      "outputs": [],
      "source": [
        "X_train = pd.concat([X_train[new_numerical_features],\n",
        "                     pd.get_dummies(X_train.school),\n",
        "                     pd.get_dummies(X_train.sex),\n",
        "                     pd.get_dummies(X_train.address),\n",
        "                     pd.get_dummies(X_train.famsize),\n",
        "                     pd.get_dummies(X_train.Pstatus),\n",
        "                     pd.get_dummies(X_train.Mjob),\n",
        "                     pd.get_dummies(X_train.Fjob),\n",
        "                     pd.get_dummies(X_train.reason),\n",
        "                     pd.get_dummies(X_train.guardian),\n",
        "                     pd.get_dummies(X_train.schoolsup),\n",
        "                     pd.get_dummies(X_train.famsup),\n",
        "                     pd.get_dummies(X_train.paid),\n",
        "                     pd.get_dummies(X_train.activities),\n",
        "                     pd.get_dummies(X_train.nursery),\n",
        "                     pd.get_dummies(X_train.higher),\n",
        "                     pd.get_dummies(X_train.internet),\n",
        "                     pd.get_dummies(X_train.romantic)], axis=1)\n",
        "\n",
        "X_test = pd.concat([X_test[new_numerical_features],\n",
        "                     pd.get_dummies(X_test.school),\n",
        "                     pd.get_dummies(X_test.sex),\n",
        "                     pd.get_dummies(X_test.address),\n",
        "                     pd.get_dummies(X_test.famsize),\n",
        "                     pd.get_dummies(X_test.Pstatus),\n",
        "                     pd.get_dummies(X_test.Mjob),\n",
        "                     pd.get_dummies(X_test.Fjob),\n",
        "                     pd.get_dummies(X_test.reason),\n",
        "                     pd.get_dummies(X_test.guardian),\n",
        "                     pd.get_dummies(X_test.schoolsup),\n",
        "                     pd.get_dummies(X_test.famsup),\n",
        "                     pd.get_dummies(X_test.paid),\n",
        "                     pd.get_dummies(X_test.activities),\n",
        "                     pd.get_dummies(X_test.nursery),\n",
        "                     pd.get_dummies(X_test.higher),\n",
        "                     pd.get_dummies(X_test.internet),\n",
        "                     pd.get_dummies(X_test.romantic)], axis=1)\n"
      ]
    },
    {
      "cell_type": "code",
      "execution_count": null,
      "metadata": {
        "colab": {
          "background_save": true
        },
        "id": "aHqlbUT-gyyu"
      },
      "outputs": [],
      "source": [
        "missing_values_count = X_train.isna().sum()\n",
        "\n",
        "# Afficher le résultat\n",
        "print(missing_values_count)"
      ]
    },
    {
      "cell_type": "code",
      "execution_count": null,
      "metadata": {
        "colab": {
          "background_save": true
        },
        "id": "2IJOpfScg5AJ"
      },
      "outputs": [],
      "source": [
        "missing_values_count = X_test.isna().sum()\n",
        "\n",
        "# Afficher le résultat\n",
        "print(missing_values_count)"
      ]
    },
    {
      "cell_type": "code",
      "execution_count": null,
      "metadata": {
        "colab": {
          "background_save": true
        },
        "id": "JDgeDQSwg7B7"
      },
      "outputs": [],
      "source": [
        "X = pd.concat([X_train, X_test])"
      ]
    },
    {
      "cell_type": "markdown",
      "metadata": {
        "id": "sLhktsR-Lzzm"
      },
      "source": [
        "Nos données ont été standardisées et encodées avec succès."
      ]
    },
    {
      "cell_type": "markdown",
      "metadata": {
        "id": "Yd2pwoLGP7Nw"
      },
      "source": [
        "On va maintenant éliminer les anomalies qu'il pourrait y avoir dans notre dataset avec l'algorithme d'Isolation Forest.\n",
        "\n",
        "On choisit  arbitrairement un taux de contamination (c'est-à-dire le pourcentage d'échantillons aberrants que l'on souhaite éliminer  du dataset) de 1%.\n"
      ]
    },
    {
      "cell_type": "code",
      "execution_count": null,
      "metadata": {
        "colab": {
          "background_save": true
        },
        "id": "YiUUMpjb3RuZ"
      },
      "outputs": [],
      "source": [
        "isolation_forest = IsolationForest(contamination=0.1)\n",
        "\n",
        "\n",
        "isolation_forest.fit(X)\n",
        "\n",
        "y_pred_IF = isolation_forest.predict(X)"
      ]
    },
    {
      "cell_type": "code",
      "execution_count": null,
      "metadata": {
        "colab": {
          "background_save": true
        },
        "id": "4_qqhAbKOUIn"
      },
      "outputs": [],
      "source": [
        "anomalies = X[y_pred_IF == -1]\n",
        "\n",
        "#Affichage du nombre d'anomalies détectées\n",
        "print(f\"Nombre d'anomalies détectées : {len(anomalies)}\")\n",
        "\n",
        "# Affichage des indices des anomalies\n",
        "print(\"Indices des anomalies :\")\n",
        "print(anomalies.index)"
      ]
    },
    {
      "cell_type": "markdown",
      "metadata": {
        "id": "5DnCOB5TQPa9"
      },
      "source": [
        "On ne conserve dans le data set que les valeurs non aberrantes."
      ]
    },
    {
      "cell_type": "code",
      "execution_count": null,
      "metadata": {
        "colab": {
          "background_save": true
        },
        "id": "ZMQLG-7cOm-v"
      },
      "outputs": [],
      "source": [
        "X=X[y_pred_IF==1]"
      ]
    },
    {
      "cell_type": "markdown",
      "metadata": {
        "id": "aRzAIzejhEOf"
      },
      "source": [
        "Pour finir, on applique le PCA (Analyse en parties principales) afin de réduire la dimension du dataset (et ainsi indirectement éliminer les variables \"inutiles\" car doublons comme dans le cas évoqué précédemment de \"Dalc\"-\"Walc\" et \"Fedu\"-\"Medu\"). Cela nous permettra également d'éviter l'overfitting tout en conservant un maximum de variance dans notre dataset."
      ]
    },
    {
      "cell_type": "code",
      "execution_count": null,
      "metadata": {
        "colab": {
          "background_save": true
        },
        "id": "FB7-hiljSbzo"
      },
      "outputs": [],
      "source": [
        "X.shape"
      ]
    },
    {
      "cell_type": "markdown",
      "metadata": {
        "id": "OsVpc54ATuI2"
      },
      "source": [
        "On a de nouveau ce problème de valeurs manquantes. On va de nouveau appliquer un imputer qui remplacera les valeurs manquantes par la moyenne. On standardise ensuite pour bien pouvoir appliquer le PCA. On choisit de faire un premier PCA à 46 variables pour démarrer avant de chercher le nombre de composants minimal qui assure une bonne variance."
      ]
    },
    {
      "cell_type": "code",
      "execution_count": null,
      "metadata": {
        "colab": {
          "background_save": true
        },
        "id": "PQb7_T-bQXgM"
      },
      "outputs": [],
      "source": [
        "model_PCA = PCA(n_components=46)\n",
        "X_reduced= model_PCA.fit_transform(X)\n"
      ]
    },
    {
      "cell_type": "markdown",
      "metadata": {
        "id": "D02zUDR18u9A"
      },
      "source": [
        "On affiche le taux de variance (de 0 à 1) des données en fonction du nombre de composants choisi pour faire le PCA."
      ]
    },
    {
      "cell_type": "code",
      "execution_count": null,
      "metadata": {
        "colab": {
          "background_save": true
        },
        "id": "UhGJcytET_CN"
      },
      "outputs": [],
      "source": [
        "plt.plot(np.cumsum(model_PCA.explained_variance_ratio_))"
      ]
    },
    {
      "cell_type": "markdown",
      "metadata": {
        "id": "EJz4EH5_9LqW"
      },
      "source": [
        "On choisit de conserver 99% de la variance de nos données. En appliquant la fonction argmax de numpy, on peut déterminer quel est le nombre de composants minimal pour conserver 99% de la variance."
      ]
    },
    {
      "cell_type": "code",
      "execution_count": null,
      "metadata": {
        "colab": {
          "background_save": true
        },
        "id": "v2oYU_RoSpLA"
      },
      "outputs": [],
      "source": [
        "np.argmax(np.cumsum(model_PCA.explained_variance_ratio_)>0.99)"
      ]
    },
    {
      "cell_type": "markdown",
      "metadata": {
        "id": "NV7RYnvZ9igl"
      },
      "source": [
        "On applique donc le PCA avec un nombre de composants égal à 26."
      ]
    },
    {
      "cell_type": "code",
      "execution_count": null,
      "metadata": {
        "colab": {
          "background_save": true
        },
        "id": "QcAhvJ0_U1rh"
      },
      "outputs": [],
      "source": [
        "model_PCA = PCA(n_components=26)\n",
        "X = model_PCA.fit_transform(X)"
      ]
    },
    {
      "cell_type": "markdown",
      "metadata": {
        "id": "yXMfcRckVHTJ"
      },
      "source": [
        "**V) Développement du modèle**\n",
        "\n"
      ]
    },
    {
      "cell_type": "markdown",
      "metadata": {
        "id": "S8tZlPdHA5QI"
      },
      "source": [
        "**1.Choix du modèle**"
      ]
    },
    {
      "cell_type": "markdown",
      "metadata": {
        "id": "Mb_9ZWaptxUg"
      },
      "source": [
        "On passe maintenant à la partie de développement de notre modèle de machine learning."
      ]
    },
    {
      "cell_type": "markdown",
      "metadata": {
        "id": "zmkO-c6p9QrQ"
      },
      "source": [
        "On va évaluer différents modèles de machine learning pertinents pour résoudre un problème de régression : une LinearRegression, une méthode de Lasso, une RandomForest et un AdaBoost.\n",
        "De plus, on décide de rajouter un preprocesseur qui rajoute à nos données des caractéristiques supplémentaires à savoir le carré de toutes les caractéristiques déjà existantes.\n",
        "Ceci dit, nous n'avons pu appliquer ce preprocesseur qu'aux modèles non linéaires (RandomForest et AdaBoost) car dans le cas des modèles linéaires (LinearRegression et Lasso), cela posait des problèmes d'allocation de mémoire."
      ]
    },
    {
      "cell_type": "code",
      "execution_count": null,
      "metadata": {
        "id": "5_pMVNppbAEC"
      },
      "outputs": [],
      "source": [
        "preprocessor=make_pipeline(PolynomialFeatures(2))"
      ]
    },
    {
      "cell_type": "code",
      "execution_count": null,
      "metadata": {
        "id": "-pCbLxUu0-aX"
      },
      "outputs": [],
      "source": [
        "LinR=LinearRegression()\n",
        "Lasso_model=Lasso()\n",
        "RandomForest=make_pipeline(preprocessor, RandomForestRegressor(random_state=1))\n",
        "AdaBoost=make_pipeline(preprocessor, AdaBoostRegressor(random_state=1))"
      ]
    },
    {
      "cell_type": "code",
      "execution_count": null,
      "metadata": {
        "id": "IRCTpKJkeLCt"
      },
      "outputs": [],
      "source": [
        "list_of_models=[LinR, Lasso_model, RandomForest,AdaBoost]"
      ]
    },
    {
      "cell_type": "markdown",
      "metadata": {
        "id": "TXWh42l0_Jz8"
      },
      "source": [
        "On créé une fonction d'évaluation qui permet d'afficher les courbes d'apprentissage (learning curves) de chacun de nos modèles afin de déterminer celui que l'on va sélectionner (le plus efficient).\n",
        "On transforme également nos données qui étaient des DataFrames en tableaux numpy afin de pouvoir appliquer les méthodes présentes dans notre fonction d'évaluation."
      ]
    },
    {
      "cell_type": "code",
      "execution_count": null,
      "metadata": {
        "id": "skqhm_lAliyg"
      },
      "outputs": [],
      "source": [
        "y_train = np.array(y_train)\n",
        "X_train=np.array(X_train)\n",
        "y_test = np.array(y_test)\n",
        "X_test=np.array(X_test)"
      ]
    },
    {
      "cell_type": "code",
      "execution_count": null,
      "metadata": {
        "id": "rLI-V-S9fAVR"
      },
      "outputs": [],
      "source": [
        "def evaluation(model):\n",
        "    model.fit(X_train, y_train)\n",
        "    y_pred = model.predict(X_test)\n",
        "\n",
        "    N, train_score, val_score = learning_curve(\n",
        "        model, X_train, y_train, cv=4, scoring='neg_mean_squared_error'\n",
        "    )\n",
        "\n",
        "    # Convertir les scores en valeurs positives\n",
        "    train_score = -train_score\n",
        "    val_score = -val_score\n",
        "\n",
        "    plt.figure(figsize=(12, 8))\n",
        "    plt.plot(N, train_score.mean(axis=1), label='train_score')\n",
        "    plt.plot(N, val_score.mean(axis=1), label='validation_score')\n",
        "    plt.legend()\n"
      ]
    },
    {
      "cell_type": "code",
      "execution_count": null,
      "metadata": {
        "colab": {
          "background_save": true
        },
        "id": "oIZmP1zpeZ-A"
      },
      "outputs": [],
      "source": [
        "for model in list_of_models:\n",
        "  evaluation(model)"
      ]
    },
    {
      "cell_type": "markdown",
      "metadata": {
        "id": "RZDlV8MLAnz_"
      },
      "source": [
        "Analysons les performances de nos 4 modèles :\n",
        "\n",
        "-Régression linéaire : la courbe du train score et celle du validation score convergent vers une erreur d'environ 7,5. On a une performance correcte et pas d'overfitting.\n",
        "\n",
        "-Lasso : ce modèle n'overfit pas puisque le train score augmente beaucoup au début. Les performances sont moins bonnes que pour la LinearRegression et les courbes de train_score et validation_score semblent diverger au final.\n",
        "\n",
        "-RandomForest : performances similaires à la LinearRegression mais semble overfitter.\n",
        "\n",
        "-AdaBoost : valeur de validation score similaire à la LinearRegression et la RandomForest mais un train score plutôt bas mais qui semble petit à petit converger vers le train_score (donc a priori pas trop d'overfit)\n"
      ]
    },
    {
      "cell_type": "markdown",
      "metadata": {
        "id": "rFLbiA8wbccj"
      },
      "source": [
        "**On choisit de conserver le modèle d'AdaBoost** qui avec la LinearRegression semble offrir les meilleures performances sans trop d'overfit. AdaBoost a été préféré à LinearRegression de par le fait qu'il combine les résultats de plusieurs modèles simples entraînés simultanément."
      ]
    },
    {
      "cell_type": "markdown",
      "metadata": {
        "id": "nM0sVrWYiTcE"
      },
      "source": [
        "**2.Optimisation du modèle**"
      ]
    },
    {
      "cell_type": "markdown",
      "metadata": {
        "id": "uQTGMzztj5Gh"
      },
      "source": [
        "On va optimiser les hyperparamètres de notre modèle d'AdaBoost."
      ]
    },
    {
      "cell_type": "code",
      "execution_count": null,
      "metadata": {
        "colab": {
          "background_save": true
        },
        "id": "jk4jGuw_mGtS"
      },
      "outputs": [],
      "source": [
        "hyper_params={'adaboostregressor__n_estimators':[50, 100, 200],\n",
        "              'adaboostregressor__learning_rate':[0.001,0.01, 0.1],\n",
        "              'adaboostregressor__loss':['linear','square','exponential'],\n",
        "              'pipeline__polynomialfeatures__degree':[1,2]\n",
        "              }\n"
      ]
    },
    {
      "cell_type": "markdown",
      "metadata": {
        "id": "sFp7MCKGcnbd"
      },
      "source": [
        "On utilise un RandomizedSearchCV plutôt qu'un GridSearchCV pour la recherche d'hyperparamètres optimaux car le nombre d'hyperparamètres d'un AdaBoost est particulièrement et tester toutes leurs combinaisons possibles prendrait un temps énorme à l'ordinateur.\n",
        "RandomizedSearchCV va tester 30 combinaisons possibles d'hyperparamètres et nous renvoyer la meilleure des 30."
      ]
    },
    {
      "cell_type": "code",
      "execution_count": null,
      "metadata": {
        "colab": {
          "background_save": true
        },
        "id": "qhTq6-H1o5-0"
      },
      "outputs": [],
      "source": [
        "grid=RandomizedSearchCV(AdaBoost,hyper_params,scoring='neg_mean_squared_error', cv=4, n_iter=30)\n",
        "grid.fit(X_train, y_train)\n",
        "print(grid.best_params_)\n",
        "y_pred_after_optim=grid.predict(X_test)\n",
        "print(y_pred_after_optim)"
      ]
    },
    {
      "cell_type": "code",
      "execution_count": null,
      "metadata": {
        "colab": {
          "background_save": true
        },
        "id": "w1JC9Ycr7Nbk"
      },
      "outputs": [],
      "source": [
        "y_test"
      ]
    },
    {
      "cell_type": "code",
      "execution_count": null,
      "metadata": {
        "colab": {
          "background_save": true
        },
        "id": "I-lZwXGAjmj3"
      },
      "outputs": [],
      "source": [
        "AdaBoost=make_pipeline(preprocessor, AdaBoostRegressor(random_state=1,n_estimators=50, loss='square',learning_rate=0.001))"
      ]
    },
    {
      "cell_type": "code",
      "execution_count": null,
      "metadata": {
        "id": "ROyEEAsDiJ9G"
      },
      "outputs": [],
      "source": [
        "evaluation(AdaBoost)"
      ]
    },
    {
      "cell_type": "markdown",
      "metadata": {
        "id": "oMuxGaNGgfmY"
      },
      "source": [
        "On constate que les performances du modèle sont peu satisfaisantes (la courbe d'apprentissage est quasiment identique avant et après optimisation des hyperparamètres) en particulier sur des valeurs extrêmes (en dessous de 8 et au dessus de 14). Il n'arrive jamais à descendre aussi bas ou à monter aussi haut. On peut supposer que comme pressenti, la taille de notre dataset est un peu faible pour pour que notre modèle réalise des prédictions de qualité. Notre modèle n'a certainement pas assez vu de valeurs \"extrêmes\" durant sa phase d'entraînement"
      ]
    },
    {
      "cell_type": "markdown",
      "metadata": {
        "id": "9JzpgX74iVYh"
      },
      "source": [
        "Toutefois, on se rappelle que nous avions délibérément choisi de retirer les variables G1 et G2 de notre dataset avant le pré-traitement des données car nous voulions développer un modèle qui prédit la moyenne des élèves en portugais au 3ème trimestre en se basant uniquement sur des caractéristiques sociales des élèves. Or, ces dernières étaient grandement corrélées à notre target G3.\n",
        "\n",
        "Voici les résultats que l'on obtient en commentant la ligne :\n",
        "\n",
        "data=data.drop(columns=\"G1\")\n",
        "\n",
        "\n",
        "data=data.drop(columns=\"G2\") :"
      ]
    },
    {
      "cell_type": "markdown",
      "source": [
        "{'pipeline__polynomialfeatures__degree': 2, 'adaboostregressor__n_estimators': 200, 'adaboostregressor__loss': 'exponential', 'adaboostregressor__learning_rate': 0.01}\n",
        "\n",
        "\n",
        "[ 7.4137931  10.8627451   8.97222222  7.41935484 10.98125    10.98125\n",
        " 15.11594203 12.96747967 15.275      14.63636364  9.30909091 10.86144578\n",
        " 13.0130719  12.96478873 16.83333333 12.95419847  9.10958904  9.32653061\n",
        " 13.         10.92356688 15.25454545  6.71428571  8.78861789  9.46428571\n",
        " 10.97826087  9.31683168 10.91596639 12.96240602 12.96899225 10.85611511\n",
        "  9.46987952 12.95774648 10.88819876  7.45714286  9.36170213 10.97826087\n",
        " 12.96899225 15.22666667 17.02857143 15.22666667 16.86842105 10.98192771\n",
        " 12.96899225 13.         10.98192771 17.02083333 14.78571429 17.\n",
        " 10.85611511 15.14925373 10.73134328 17.02631579 10.97826087 15.875\n",
        " 17.         10.88535032  8.66981132 10.88819876 13.         14.71428571\n",
        " 10.86144578  9.32653061 15.22666667 10.97126437 17.         12.95967742\n",
        " 15.19753086 17.         10.87647059 15.22666667 13.         16.84210526\n",
        " 10.8627451  10.97826087 10.97333333 14.48648649 16.80952381  9.30588235\n",
        " 12.976      10.8627451  10.97826087 12.95614035 13.         17.\n",
        "  8.71551724 15.275      12.95774648 12.96747967 10.88535032 16.8\n",
        " 16.85714286 12.96240602  9.37142857 11.         15.11594203 15.22666667\n",
        " 12.96774194 10.97333333  9.66216216  8.31818182  8.66363636 10.88976378\n",
        " 13.00775194 12.96551724 12.95774648  8.60576923 10.97826087 12.96747967\n",
        " 12.99180328 13.         10.85380117  9.07777778 15.22666667 13.\n",
        "  7.89361702 15.11594203 12.95774648 17.         10.88976378 10.8627451\n",
        " 13.02173913 10.73134328 14.93939394  9.47826087  9.74675325 12.96478873\n",
        " 10.97333333  1.41176471  9.58974359  7.8125    ]"
      ],
      "metadata": {
        "id": "1izW8ADTqwWU"
      }
    },
    {
      "cell_type": "markdown",
      "source": [
        "On voit (comme prévu) que le modèle est beaucoup plus performant lorsque l'on ne supprime pas les variables G1 et G2 du dataset. Ce que confirme sa courbe d'apprentissage :"
      ],
      "metadata": {
        "id": "0LFpsfrPrDsE"
      }
    },
    {
      "cell_type": "code",
      "source": [
        "from IPython.display import Image\n",
        "\n",
        "\n",
        "image_url = 'https://github.com/MarineDelabaere/Projet_ML_UE_AAA/blob/main/courbe_apprentissage_ada_boost_T1_2.png'\n",
        "\n",
        "\n",
        "Image(url=image_url)"
      ],
      "metadata": {
        "id": "cUDoJx22xL6U"
      },
      "execution_count": null,
      "outputs": []
    }
  ],
  "metadata": {
    "colab": {
      "toc_visible": true,
      "provenance": [],
      "authorship_tag": "ABX9TyNreGicNJtOZv3qGvTcLpKc",
      "include_colab_link": true
    },
    "kernelspec": {
      "display_name": "Python 3",
      "name": "python3"
    },
    "language_info": {
      "name": "python"
    }
  },
  "nbformat": 4,
  "nbformat_minor": 0
}